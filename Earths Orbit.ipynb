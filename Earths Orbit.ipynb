{
 "cells": [
  {
   "cell_type": "code",
   "execution_count": 1,
   "id": "ac4d2a62-4081-4b8e-9488-81c367f1111a",
   "metadata": {},
   "outputs": [
    {
     "ename": "NameError",
     "evalue": "name 'r0' is not defined",
     "output_type": "error",
     "traceback": [
      "\u001b[1;31m---------------------------------------------------------------------------\u001b[0m",
      "\u001b[1;31mNameError\u001b[0m                                 Traceback (most recent call last)",
      "Cell \u001b[1;32mIn[1], line 44\u001b[0m\n\u001b[0;32m     42\u001b[0m \u001b[38;5;66;03m# Calculate the trajectory for 1 year (1 AU)\u001b[39;00m\n\u001b[0;32m     43\u001b[0m tmax \u001b[38;5;241m=\u001b[39m \u001b[38;5;241m1\u001b[39m\n\u001b[1;32m---> 44\u001b[0m trajectory \u001b[38;5;241m=\u001b[39m \u001b[43mintegrate_earth\u001b[49m\u001b[43m(\u001b[49m\u001b[43mtmax\u001b[49m\u001b[43m)\u001b[49m\n\u001b[0;32m     46\u001b[0m \u001b[38;5;66;03m# Extract x and y coordinates\u001b[39;00m\n\u001b[0;32m     47\u001b[0m x \u001b[38;5;241m=\u001b[39m trajectory[:, \u001b[38;5;241m0\u001b[39m]\n",
      "Cell \u001b[1;32mIn[1], line 18\u001b[0m, in \u001b[0;36mintegrate_earth\u001b[1;34m(tmax, dt)\u001b[0m\n\u001b[0;32m     16\u001b[0m \u001b[38;5;28;01mdef\u001b[39;00m \u001b[38;5;21mintegrate_earth\u001b[39m(tmax, dt\u001b[38;5;241m=\u001b[39m\u001b[38;5;241m1e-3\u001b[39m):\n\u001b[0;32m     17\u001b[0m     \u001b[38;5;66;03m# Initial conditions\u001b[39;00m\n\u001b[1;32m---> 18\u001b[0m     r \u001b[38;5;241m=\u001b[39m \u001b[43mr0\u001b[49m[\u001b[38;5;124m'\u001b[39m\u001b[38;5;124mearth\u001b[39m\u001b[38;5;124m'\u001b[39m]\n\u001b[0;32m     19\u001b[0m     v \u001b[38;5;241m=\u001b[39m v0[\u001b[38;5;124m'\u001b[39m\u001b[38;5;124mearth\u001b[39m\u001b[38;5;124m'\u001b[39m]\n\u001b[0;32m     21\u001b[0m     \u001b[38;5;66;03m# Lists to store trajectory\u001b[39;00m\n",
      "\u001b[1;31mNameError\u001b[0m: name 'r0' is not defined"
     ]
    }
   ],
   "source": [
    "import numpy as np\n",
    "import matplotlib.pyplot as plt\n",
    "\n",
    "# Constants\n",
    "G = 4 * np.pi**2\n",
    "mass_earth = 3.0034e-6\n",
    "\n",
    "def F_gravity(ri, rj, mi, mj):\n",
    "    # Calculate the force vector between two bodies\n",
    "    r_ij = ri - rj\n",
    "    r_ij_norm = np.linalg.norm(r_ij)\n",
    "    force_magnitude = -G * (mi * mj) / (r_ij_norm**2)\n",
    "    force_vector = force_magnitude * (r_ij / r_ij_norm)\n",
    "    return force_vector\n",
    "\n",
    "def integrate_earth(tmax, dt=1e-3):\n",
    "    # Initial conditions\n",
    "    r = r0['earth']\n",
    "    v = v0['earth']\n",
    "    \n",
    "    # Lists to store trajectory\n",
    "    r_values = []\n",
    "\n",
    "    # Time integration loop\n",
    "    t = 0\n",
    "    while t < tmax:\n",
    "        # Append current position to the trajectory\n",
    "        r_values.append(r.copy())\n",
    "\n",
    "        # Calculate the force on Earth due to the Sun\n",
    "        force = F_gravity(r, r0['sun'], mass_earth, mass['sun'])\n",
    "\n",
    "        # Update position and velocity using semi-implicit Euler\n",
    "        r = r + v * dt\n",
    "        v = v + (1 / mass_earth) * force * dt\n",
    "\n",
    "        # Increment time\n",
    "        t += dt\n",
    "\n",
    "    return np.array(r_values)\n",
    "\n",
    "# Calculate the trajectory for 1 year (1 AU)\n",
    "tmax = 1\n",
    "trajectory = integrate_earth(tmax)\n",
    "\n",
    "# Extract x and y coordinates\n",
    "x = trajectory[:, 0]\n",
    "y = trajectory[:, 1]\n",
    "\n",
    "# Create a plot\n",
    "plt.figure(figsize=(8, 6))\n",
    "plt.plot(x, y, label='Earth Orbit', color='blue')\n",
    "plt.plot(r0[\"earth\"][0], r0[\"earth\"][1], \"r^\", label='Starting Point (Earth)')\n",
    "plt.xlabel('x (AU)')\n",
    "plt.ylabel('y (AU)')\n",
    "plt.title('Trajectory of Earth Orbit Around the Sun')\n",
    "plt.gca().set_aspect('equal')\n",
    "plt.legend()\n",
    "plt.grid(True)\n",
    "\n",
    "# Save the figure\n",
    "plt.savefig('orbit_earth_only.png')\n",
    "plt.show()\n"
   ]
  }
 ],
 "metadata": {
  "kernelspec": {
   "display_name": "Python 3 (ipykernel)",
   "language": "python",
   "name": "python3"
  },
  "language_info": {
   "codemirror_mode": {
    "name": "ipython",
    "version": 3
   },
   "file_extension": ".py",
   "mimetype": "text/x-python",
   "name": "python",
   "nbconvert_exporter": "python",
   "pygments_lexer": "ipython3",
   "version": "3.10.9"
  }
 },
 "nbformat": 4,
 "nbformat_minor": 5
}
